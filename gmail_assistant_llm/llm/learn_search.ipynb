{
 "cells": [
  {
   "cell_type": "code",
   "execution_count": 1,
   "metadata": {},
   "outputs": [],
   "source": [
    "import openai \n",
    "from dotenv import load_dotenv, find_dotenv\n",
    "import json\n",
    "from langchain.prompts import ChatPromptTemplate\n",
    "from langchain_openai import ChatOpenAI\n",
    "from langchain.schema.output_parser import StrOutputParser\n",
    "from typing import List\n",
    "from pydantic import BaseModel, Field\n",
    "from langchain.utils.openai_functions import convert_pydantic_to_openai_function\n",
    "from typing import Optional\n",
    "from langchain.output_parsers.openai_functions import JsonOutputFunctionsParser\n",
    "from langchain_core.output_parsers import JsonOutputParser\n",
    "from langchain_community.utilities import GoogleSearchAPIWrapper\n",
    "from langchain_core.tools import Tool\n",
    "from langchain_community.document_loaders import UnstructuredURLLoader\n",
    "\n",
    "import os\n",
    "\n",
    "def read_json(json_file):\n",
    "    with open(json_file, 'r') as f:\n",
    "        data = json.load(f)\n",
    "    return data\n",
    "\n",
    "dotenv_path = os.path.join('..', '.env')\n",
    "load_dotenv(dotenv_path)\n",
    "openai.api_key = os.environ['OPENAI_API_KEY']\n",
    "root_dir = '../db/raw/20240802/'\n",
    "job_data = read_json(os.path.join(root_dir,'job_process_list_sample.json'))"
   ]
  },
  {
   "cell_type": "code",
   "execution_count": 2,
   "metadata": {},
   "outputs": [
    {
     "data": {
      "text/plain": [
       "'Microsoft'"
      ]
     },
     "execution_count": 2,
     "metadata": {},
     "output_type": "execute_result"
    }
   ],
   "source": [
    "job_data[0]['query_list'][0]['name']"
   ]
  },
  {
   "cell_type": "code",
   "execution_count": 3,
   "metadata": {},
   "outputs": [
    {
     "name": "stderr",
     "output_type": "stream",
     "text": [
      "/journel/s0/zur74/venv/gpt_rag/lib/python3.9/site-packages/langchain_core/_api/deprecation.py:139: LangChainDeprecationWarning: The class `GoogleSearchAPIWrapper` was deprecated in LangChain 0.0.33 and will be removed in 0.3.0. An updated version of the class exists in the langchain-google-community package and should be used instead. To use it run `pip install -U langchain-google-community` and import as `from langchain_google_community import GoogleSearchAPIWrapper`.\n",
      "  warn_deprecated(\n"
     ]
    }
   ],
   "source": [
    "search = GoogleSearchAPIWrapper()\n",
    "\n",
    "\n",
    "def top5_results(query):\n",
    "    return search.results(query, 5)\n",
    "\n",
    "\n",
    "tool = Tool(\n",
    "    name=\"Google Search Snippets\",\n",
    "    description=\"Search Google for recent results.\",\n",
    "    func=top5_results,\n",
    ")\n",
    "\n",
    "a = tool.run(\"site:linkedin.com What is company Equip\")\n"
   ]
  },
  {
   "cell_type": "code",
   "execution_count": 36,
   "metadata": {},
   "outputs": [],
   "source": [
    "import requests\n",
    "from bs4 import BeautifulSoup\n",
    "import json\n",
    "\n",
    "def scrape_website(url):\n",
    "    # Send a GET request to the URL\n",
    "    headers = {\n",
    "        \"User-Agent\": \"Mozilla/5.0 (Windows NT 10.0; Win64; x64) AppleWebKit/537.36 (KHTML, like Gecko) Chrome/91.0.4472.124 Safari/537.36\"\n",
    "    }\n",
    "    response = requests.get(url, headers=headers)\n",
    "    \n",
    "    # Parse the HTML content\n",
    "    soup = BeautifulSoup(response.content, 'html.parser')\n",
    "    \n",
    "    # Initialize a dictionary to store the scraped data\n",
    "    data = {\n",
    "        \"url\": url,\n",
    "        \"title\": soup.title.string if soup.title else \"\",\n",
    "        \"meta_description\": \"\",\n",
    "        \"headings\": [],\n",
    "        \"paragraphs\": [],\n",
    "        \"links\": []\n",
    "    }\n",
    "    \n",
    "    # Extract meta description\n",
    "    meta_desc = soup.find(\"meta\", attrs={\"name\": \"description\"})\n",
    "    if meta_desc:\n",
    "        data[\"meta_description\"] = meta_desc.get(\"content\", \"\")\n",
    "    \n",
    "    # Extract headings\n",
    "    for heading in soup.find_all(['h1', 'h2', 'h3']):\n",
    "        data[\"headings\"].append({\n",
    "            \"level\": heading.name,\n",
    "            \"text\": heading.text.strip()\n",
    "        })\n",
    "    \n",
    "    # Extract paragraphs\n",
    "    for para in soup.find_all('p'):\n",
    "        data[\"paragraphs\"].append(para.text.strip())\n",
    "    \n",
    "    # Extract links\n",
    "    for link in soup.find_all('a'):\n",
    "        data[\"links\"].append({\n",
    "            \"text\": link.text.strip(),\n",
    "            \"href\": link.get(\"href\", \"\")\n",
    "        })\n",
    "    \n",
    "    return data\n",
    "\n",
    "# Use the function\n",
    "url = 'https://equip.health/'\n",
    "url = 'https://www.linkedin.com/company/equip-behavioral-health/'\n",
    "structured_data = scrape_website(url)\n",
    "input_data = json.dumps(structured_data)"
   ]
  },
  {
   "cell_type": "code",
   "execution_count": 37,
   "metadata": {},
   "outputs": [],
   "source": [
    "from langchain_community.document_loaders import UnstructuredURLLoader\n",
    "def add_url(original_url):\n",
    "    original_url += '/about/'\n",
    "    return original_url\n",
    "\n",
    "urls = [add_url(a[0]['link'])]\n",
    "\n",
    "loader =  UnstructuredURLLoader(urls=urls)\n",
    "documents = loader.load()[0]\n",
    "\n",
    "class Overview(BaseModel):\n",
    "    \"\"\"Overview of a section of text.\"\"\"\n",
    "    summary: str = Field(description=\"Provide a concise summary of the company this url is describing.\")\n",
    "    industry: str = Field(description=\"which industry this company is working for\")\n",
    "    size: int = Field(description=\"Size of this company - number of empolyees\")\n",
    "    founding_year: int = Field(description=\"Year this company was founded\")\n",
    "    company_url: str = Field(description=\"URL of the company's website\")\n",
    "    funding: str = Field(description=\"Funding status of the company - how much do they recieve from investor - which series\")\n",
    "\n",
    "overview_extraction_function = [\n",
    "    convert_pydantic_to_openai_function(Overview)\n",
    "]\n",
    "\n",
    "model = ChatOpenAI(model=\"gpt-4o-mini\")\n",
    "\n",
    "prompt = ChatPromptTemplate.from_messages([\n",
    "    (\"system\",\n",
    "        \"extract information from web page query results. Your goal is to \\\n",
    "    get informatino about company. If you can't find relevant information, \\\n",
    "    please return None\"\n",
    "    ),\n",
    "    (\"human\", \"{input}\")\n",
    "])\n",
    "\n",
    "tagging_model = model.bind(\n",
    "    functions=overview_extraction_function,\n",
    "    function_call={\"name\":\"Overview\"}\n",
    ")\n",
    "\n",
    "tagging_chain = prompt | tagging_model\n",
    "\n",
    "chain_result = tagging_chain.invoke({\"input\": input_data})\n",
    "\n",
    "json_response = json.loads(\n",
    "    chain_result.additional_kwargs['function_call']['arguments']\n",
    "    )\n",
    "\n"
   ]
  },
  {
   "cell_type": "code",
   "execution_count": 38,
   "metadata": {},
   "outputs": [
    {
     "data": {
      "text/plain": [
       "{'summary': 'Equip provides families with lasting recovery from eating disorders through dedicated virtual care teams and gold-standard treatment delivered at home.',\n",
       " 'industry': 'Mental Health Care',\n",
       " 'size': 490,\n",
       " 'founding_year': 0,\n",
       " 'company_url': 'https://equip.health/',\n",
       " 'funding': 'US$ 35.0M in Last Round, Series C'}"
      ]
     },
     "execution_count": 38,
     "metadata": {},
     "output_type": "execute_result"
    }
   ],
   "source": [
    "json_response"
   ]
  },
  {
   "cell_type": "code",
   "execution_count": null,
   "metadata": {},
   "outputs": [],
   "source": []
  },
  {
   "cell_type": "code",
   "execution_count": null,
   "metadata": {},
   "outputs": [],
   "source": []
  },
  {
   "cell_type": "code",
   "execution_count": 17,
   "metadata": {},
   "outputs": [],
   "source": [
    "from langchain.document_loaders import UnstructuredURLLoader\n",
    "\n",
    "# Correct way: Pass a list of URLs\n",
    "loader = UnstructuredURLLoader(urls=['https://www.linkedin.com/company/equip-behavioral-health/'])\n",
    "documents = loader.load()"
   ]
  },
  {
   "cell_type": "code",
   "execution_count": 19,
   "metadata": {},
   "outputs": [
    {
     "data": {
      "text/plain": [
       "''"
      ]
     },
     "execution_count": 19,
     "metadata": {},
     "output_type": "execute_result"
    }
   ],
   "source": [
    "documents[0].page_content"
   ]
  },
  {
   "cell_type": "code",
   "execution_count": null,
   "metadata": {},
   "outputs": [],
   "source": []
  },
  {
   "cell_type": "code",
   "execution_count": 22,
   "metadata": {},
   "outputs": [],
   "source": []
  },
  {
   "cell_type": "code",
   "execution_count": 29,
   "metadata": {},
   "outputs": [],
   "source": []
  },
  {
   "cell_type": "code",
   "execution_count": null,
   "metadata": {},
   "outputs": [],
   "source": []
  },
  {
   "cell_type": "code",
   "execution_count": null,
   "metadata": {},
   "outputs": [],
   "source": []
  },
  {
   "cell_type": "code",
   "execution_count": null,
   "metadata": {},
   "outputs": [],
   "source": []
  },
  {
   "cell_type": "code",
   "execution_count": 13,
   "metadata": {},
   "outputs": [
    {
     "data": {
      "text/plain": [
       "{'name': 'Equip',\n",
       " 'position': {'name': 'Machine Learning (ML) Engineer',\n",
       "  'date': 'Thu, 1 Aug 2024',\n",
       "  'location': 'United States',\n",
       "  'apply_link': 'https://www.linkedin.com/comm/jobs/view/3971448321/?trackingId=EQPRHmEGAqjNXjC3Y1zz4Q%3D%3D&refId=ByteString%28length%3D16%2Cbytes%3Decf8c8b7...62180f8e%29&lipi=urn%3Ali%3Apage%3Aemail_email_job_alert_digest_01%3BuS11K6yeRlGY9Y6WRhpwpQ%3D%3D&midToken=AQGuxmwVoa47_g&midSig=1V2vtRM4GC4bo1&trk=eml-email_job_alert_digest_01-job_card-0-view_job&trkEmail=eml-email_job_alert_digest_01-job_card-0-view_job-null-blvbqx~lzbowikn~gb-null-null&eid=blvbqx-lzbowikn-gb&otpToken=MTUwNTFmZTgxNDJmY2RjN2I3MjQwNGVkNDQxY2UyYjA4ZWM2ZDU0NTk5YWI4NjYxNzljMDA1NmI0NzVmNWVmNmY2ZDNkZjliNzdjZWMxODI3ZThiZDZiN2NjZGM0N2IzOThmOTNmMmRmODIxNTdhYjlkYTc4YSwxLDE%3D',\n",
       "  'description': None}}"
      ]
     },
     "execution_count": 13,
     "metadata": {},
     "output_type": "execute_result"
    }
   ],
   "source": [
    "job_data[2]['query_list'][2]"
   ]
  },
  {
   "cell_type": "code",
   "execution_count": 15,
   "metadata": {},
   "outputs": [
    {
     "data": {
      "text/plain": [
       "{'email_id': '190dc2edb4112e4b',\n",
       " 'metadata': {'subject': '“data scientist”: TikTok - Data Scientist - Machine Learning and more',\n",
       "  'sender': 'LinkedIn Job Alerts <jobalerts-noreply@linkedin.com>',\n",
       "  'date': 'Mon, 22 Jul 2024 20:42:52 +0000 (UTC)',\n",
       "  'recipients': ['Zihan Ren <zihanren.ds@gmail.com>'],\n",
       "  'cc': [''],\n",
       "  'bcc': ['']},\n",
       " 'content': {'body': 'Your job alert for data scientist in California\\r\\n        \\r\\n30+ new jobs match your preferences.  \\r\\n          \\r\\nData Scientist - Machine Learning\\r\\nTikTok\\r\\nSan Jose, CA\\r\\nFast growing\\r\\nView job: https://www.linkedin.com/comm/jobs/view/3981983527/?trackingId=wFGQhzzGoSUCu7UymFD0mg%3D%3D&refId=ByteString%28length%3D16%2Cbytes%3Def1a3709...168c7c88%29&lipi=urn%3Ali%3Apage%3Aemail_email_job_alert_digest_01%3Bhro8Zef6TnaIIE84lxg9zg%3D%3D&midToken=AQGuxmwVoa47_g&midSig=38uwfJo3SqSbk1&trk=eml-email_job_alert_digest_01-job_card-0-view_job&trkEmail=eml-email_job_alert_digest_01-job_card-0-view_job-null-blvbqx~lyxgcqpy~br-null-null&eid=blvbqx-lyxgcqpy-br&otpToken=MTUwNTFmZTgxNDJmY2RjN2I3MjQwNGVkNDQxZmUxYmM4ZmM3ZDc0Mzk5YWU4ODYxNzljMDA1NmI0NzVmNWVmNmY2ZDNkZjgyNzVlYWNlYzAwNmE3ZjI2YWFjNTI2OWQ4YTYyMjA5MzRiMjhmYTFmMWQ5YTY0MCwxLDE%3D\\r\\n\\r\\n---------------------------------------------------------\\r\\n  \\r\\n          \\r\\nData Scientist V\\r\\nApplied Materials\\r\\nSanta Clara, CA\\r\\n1 connection\\r\\nView job: https://www.linkedin.com/comm/jobs/view/3980360793/?trackingId=jNNnNP4qg4NzwUuiHHq4Tg%3D%3D&refId=ByteString%28length%3D16%2Cbytes%3Def1a3709...168c7c88%29&lipi=urn%3Ali%3Apage%3Aemail_email_job_alert_digest_01%3Bhro8Zef6TnaIIE84lxg9zg%3D%3D&midToken=AQGuxmwVoa47_g&midSig=38uwfJo3SqSbk1&trk=eml-email_job_alert_digest_01-job_card-0-view_job&trkEmail=eml-email_job_alert_digest_01-job_card-0-view_job-null-blvbqx~lyxgcqpy~br-null-null&eid=blvbqx-lyxgcqpy-br&otpToken=MTUwNTFmZTgxNDJmY2RjN2I3MjQwNGVkNDQxZmUxYmM4ZmM3ZDc0Mzk5YWU4ODYxNzljMDA1NmI0NzVmNWVmNmY2ZDNkZjgyNzVlYWNlYzAwNmE3ZjI2YWFjNTI2OWQ4YTYyMjA5MzRiMjhmYTFmMWQ5YTY0MCwxLDE%3D\\r\\n\\r\\n---------------------------------------------------------\\r\\n  \\r\\n          \\r\\nData Scientist- Remote\\r\\nSharecare\\r\\nUnited States\\r\\n5 school alumni\\r\\nView job: https://www.linkedin.com/comm/jobs/view/3980058674/?trackingId=ZtCF64cLKSD3GYHhDs0DKQ%3D%3D&refId=ByteString%28length%3D16%2Cbytes%3Def1a3709...168c7c88%29&lipi=urn%3Ali%3Apage%3Aemail_email_job_alert_digest_01%3Bhro8Zef6TnaIIE84lxg9zg%3D%3D&midToken=AQGuxmwVoa47_g&midSig=38uwfJo3SqSbk1&trk=eml-email_job_alert_digest_01-job_card-0-view_job&trkEmail=eml-email_job_alert_digest_01-job_card-0-view_job-null-blvbqx~lyxgcqpy~br-null-null&eid=blvbqx-lyxgcqpy-br&otpToken=MTUwNTFmZTgxNDJmY2RjN2I3MjQwNGVkNDQxZmUxYmM4ZmM3ZDc0Mzk5YWU4ODYxNzljMDA1NmI0NzVmNWVmNmY2ZDNkZjgyNzVlYWNlYzAwNmE3ZjI2YWFjNTI2OWQ4YTYyMjA5MzRiMjhmYTFmMWQ5YTY0MCwxLDE%3D\\r\\n\\r\\n---------------------------------------------------------\\r\\n  \\r\\n          \\r\\nData Scientist\\r\\nZest AI\\r\\nUnited States\\r\\n2 school alumni\\r\\nApply with resume & profile\\r\\nView job: https://www.linkedin.com/comm/jobs/view/3979558881/?trackingId=M7c%2Bv9qIgZWhZgIdnaRh3g%3D%3D&refId=ByteString%28length%3D16%2Cbytes%3Def1a3709...168c7c88%29&lipi=urn%3Ali%3Apage%3Aemail_email_job_alert_digest_01%3Bhro8Zef6TnaIIE84lxg9zg%3D%3D&midToken=AQGuxmwVoa47_g&midSig=38uwfJo3SqSbk1&trk=eml-email_job_alert_digest_01-job_card-0-view_job&trkEmail=eml-email_job_alert_digest_01-job_card-0-view_job-null-blvbqx~lyxgcqpy~br-null-null&eid=blvbqx-lyxgcqpy-br&otpToken=MTUwNTFmZTgxNDJmY2RjN2I3MjQwNGVkNDQxZmUxYmM4ZmM3ZDc0Mzk5YWU4ODYxNzljMDA1NmI0NzVmNWVmNmY2ZDNkZjgyNzVlYWNlYzAwNmE3ZjI2YWFjNTI2OWQ4YTYyMjA5MzRiMjhmYTFmMWQ5YTY0MCwxLDE%3D\\r\\n\\r\\n---------------------------------------------------------\\r\\n  \\r\\n          \\r\\nData Scientist\\r\\nL.E.K. Consulting\\r\\nLos Angeles Metropolitan Area\\r\\nFast growing\\r\\nView job: https://www.linkedin.com/comm/jobs/view/3980320421/?trackingId=yNGx7D0r%2BmbEb%2BnjaLvSPA%3D%3D&refId=ByteString%28length%3D16%2Cbytes%3Def1a3709...168c7c88%29&lipi=urn%3Ali%3Apage%3Aemail_email_job_alert_digest_01%3Bhro8Zef6TnaIIE84lxg9zg%3D%3D&midToken=AQGuxmwVoa47_g&midSig=38uwfJo3SqSbk1&trk=eml-email_job_alert_digest_01-job_card-0-view_job&trkEmail=eml-email_job_alert_digest_01-job_card-0-view_job-null-blvbqx~lyxgcqpy~br-null-null&eid=blvbqx-lyxgcqpy-br&otpToken=MTUwNTFmZTgxNDJmY2RjN2I3MjQwNGVkNDQxZmUxYmM4ZmM3ZDc0Mzk5YWU4ODYxNzljMDA1NmI0NzVmNWVmNmY2ZDNkZjgyNzVlYWNlYzAwNmE3ZjI2YWFjNTI2OWQ4YTYyMjA5MzRiMjhmYTFmMWQ5YTY0MCwxLDE%3D\\r\\n\\r\\n---------------------------------------------------------\\r\\n  \\r\\n          \\r\\nSenior Data Scientist (REMOTE)\\r\\nSailPoint\\r\\nUnited States\\r\\n14 school alumni\\r\\nView job: https://www.linkedin.com/comm/jobs/view/3982323366/?trackingId=mLFZwgaWHYZO5rUaNCqXOg%3D%3D&refId=ByteString%28length%3D16%2Cbytes%3Def1a3709...168c7c88%29&lipi=urn%3Ali%3Apage%3Aemail_email_job_alert_digest_01%3Bhro8Zef6TnaIIE84lxg9zg%3D%3D&midToken=AQGuxmwVoa47_g&midSig=38uwfJo3SqSbk1&trk=eml-email_job_alert_digest_01-job_card-0-view_job&trkEmail=eml-email_job_alert_digest_01-job_card-0-view_job-null-blvbqx~lyxgcqpy~br-null-null&eid=blvbqx-lyxgcqpy-br&otpToken=MTUwNTFmZTgxNDJmY2RjN2I3MjQwNGVkNDQxZmUxYmM4ZmM3ZDc0Mzk5YWU4ODYxNzljMDA1NmI0NzVmNWVmNmY2ZDNkZjgyNzVlYWNlYzAwNmE3ZjI2YWFjNTI2OWQ4YTYyMjA5MzRiMjhmYTFmMWQ5YTY0MCwxLDE%3D\\r\\n\\r\\n---------------------------------------------------------\\r\\n  \\r\\nSee all jobs on LinkedIn:  https://www.linkedin.com/comm/jobs/search?geoId=102095887&f_TPR=a1721594484-&savedSearchId=1736988749&origin=JOB_ALERT_EMAIL&lipi=urn%3Ali%3Apage%3Aemail_email_job_alert_digest_01%3Bhro8Zef6TnaIIE84lxg9zg%3D%3D&midToken=AQGuxmwVoa47_g&midSig=38uwfJo3SqSbk1&trk=eml-email_job_alert_digest_01-job~alert-0-see~all~jobs~text&trkEmail=eml-email_job_alert_digest_01-job~alert-0-see~all~jobs~text-null-blvbqx~lyxgcqpy~br-null-null&eid=blvbqx-lyxgcqpy-br&otpToken=MTUwNTFmZTgxNDJmY2RjN2I3MjQwNGVkNDQxZmUxYmM4ZmM3ZDc0Mzk5YWU4ODYxNzljMDA1NmI0NzVmNWVmNmY2ZDNkZjgyNzVlYWNlYzAwNmE3ZjI2YWFjNTI2OWQ4YTYyMjA5MzRiMjhmYTFmMWQ5YTY0MCwxLDE%3D\\r\\n\\r\\n\\r\\n\\r\\n\\r\\n----------------------------------------\\r\\n\\r\\nThis email was intended for Zihan Ren (PhD Candidate at Penn State)\\r\\nLearn why we included this: https://www.linkedin.com/help/linkedin/answer/4788?lang=en&lipi=urn%3Ali%3Apage%3Aemail_email_job_alert_digest_01%3Bhro8Zef6TnaIIE84lxg9zg%3D%3D&midToken=AQGuxmwVoa47_g&midSig=38uwfJo3SqSbk1&trk=eml-email_job_alert_digest_01-SecurityHelp-0-textfooterglimmer&trkEmail=eml-email_job_alert_digest_01-SecurityHelp-0-textfooterglimmer-null-blvbqx~lyxgcqpy~br-null-null&eid=blvbqx-lyxgcqpy-br&otpToken=MTUwNTFmZTgxNDJmY2RjN2I3MjQwNGVkNDQxZmUxYmM4ZmM3ZDc0Mzk5YWU4ODYxNzljMDA1NmI0NzVmNWVmNmY2ZDNkZjgyNzVlYWNlYzAwNmE3ZjI2YWFjNTI2OWQ4YTYyMjA5MzRiMjhmYTFmMWQ5YTY0MCwxLDE%3D\\r\\nYou are receiving Job Alert emails.\\r\\nManage your job alerts:  https://www.linkedin.com/comm/jobs/alerts?lipi=urn%3Ali%3Apage%3Aemail_email_job_alert_digest_01%3Bhro8Zef6TnaIIE84lxg9zg%3D%3D&midToken=AQGuxmwVoa47_g&midSig=38uwfJo3SqSbk1&trk=eml-email_job_alert_digest_01-null-0-null&trkEmail=eml-email_job_alert_digest_01-null-0-null-null-blvbqx~lyxgcqpy~br-null-null&eid=blvbqx-lyxgcqpy-br&otpToken=MTUwNTFmZTgxNDJmY2RjN2I3MjQwNGVkNDQxZmUxYmM4ZmM3ZDc0Mzk5YWU4ODYxNzljMDA1NmI0NzVmNWVmNmY2ZDNkZjgyNzVlYWNlYzAwNmE3ZjI2YWFjNTI2OWQ4YTYyMjA5MzRiMjhmYTFmMWQ5YTY0MCwxLDE%3D \\r\\nUnsubscribe: https://www.linkedin.com/job-alert-email-unsubscribe?savedSearchId=1736988749&lipi=urn%3Ali%3Apage%3Aemail_email_job_alert_digest_01%3Bhro8Zef6TnaIIE84lxg9zg%3D%3D&midToken=AQGuxmwVoa47_g&midSig=38uwfJo3SqSbk1&ek=email_job_alert_digest_01&e=blvbqx-lyxgcqpy-br&eid=blvbqx-lyxgcqpy-br&m=unsubscribe&ts=footerGlimmer&li=0&t=plh  \\xa0\\xa0·\\xa0\\xa0Help: https://www.linkedin.com/help/linkedin/answer/67?lang=en&lipi=urn%3Ali%3Apage%3Aemail_email_job_alert_digest_01%3Bhro8Zef6TnaIIE84lxg9zg%3D%3D&midToken=AQGuxmwVoa47_g&midSig=38uwfJo3SqSbk1&trk=eml-email_job_alert_digest_01-help-0-textfooterglimmer&trkEmail=eml-email_job_alert_digest_01-help-0-textfooterglimmer-null-blvbqx~lyxgcqpy~br-null-null&eid=blvbqx-lyxgcqpy-br&otpToken=MTUwNTFmZTgxNDJmY2RjN2I3MjQwNGVkNDQxZmUxYmM4ZmM3ZDc0Mzk5YWU4ODYxNzljMDA1NmI0NzVmNWVmNmY2ZDNkZjgyNzVlYWNlYzAwNmE3ZjI2YWFjNTI2OWQ4YTYyMjA5MzRiMjhmYTFmMWQ5YTY0MCwxLDE%3D\\r\\n\\r\\n© 2024 LinkedIn Corporation, 1zwnj000 West Maude Avenue, Sunnyvale, CA 94085.\\r\\nLinkedIn and the LinkedIn logo are registered trademarks of LinkedIn.',\n",
       "  'attachments': []},\n",
       " 'custom_fields': {'category': None,\n",
       "  'tags': None,\n",
       "  'labels': ['UNREAD', 'Label_6078168967356941613', 'CATEGORY_UPDATES']}}"
      ]
     },
     "execution_count": 15,
     "metadata": {},
     "output_type": "execute_result"
    }
   ],
   "source": [
    "email_data[2]"
   ]
  },
  {
   "cell_type": "code",
   "execution_count": null,
   "metadata": {},
   "outputs": [],
   "source": []
  }
 ],
 "metadata": {
  "kernelspec": {
   "display_name": "gpt_rag",
   "language": "python",
   "name": "python3"
  },
  "language_info": {
   "codemirror_mode": {
    "name": "ipython",
    "version": 3
   },
   "file_extension": ".py",
   "mimetype": "text/x-python",
   "name": "python",
   "nbconvert_exporter": "python",
   "pygments_lexer": "ipython3",
   "version": "3.9.12"
  }
 },
 "nbformat": 4,
 "nbformat_minor": 2
}
